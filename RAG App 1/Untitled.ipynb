{
 "cells": [
  {
   "cell_type": "code",
   "execution_count": 1,
   "id": "36cfaee5-6fdb-471b-b4a7-9c27046b11cf",
   "metadata": {},
   "outputs": [
    {
     "name": "stdout",
     "output_type": "stream",
     "text": [
      "Note: you may need to restart the kernel to use updated packages.\n"
     ]
    }
   ],
   "source": [
    "%pip install --quiet --upgrade langchain-text-splitters langchain-community langgraph"
   ]
  },
  {
   "cell_type": "code",
   "execution_count": 2,
   "id": "bf59847a-06b7-4b85-a73e-d1e7657c9c4d",
   "metadata": {},
   "outputs": [
    {
     "name": "stdout",
     "output_type": "stream",
     "text": [
      "Note: you may need to restart the kernel to use updated packages.\n"
     ]
    }
   ],
   "source": [
    "%pip install -qU \"langchain[google-genai]\" --use-deprecated=legacy-resolver"
   ]
  },
  {
   "cell_type": "code",
   "execution_count": 3,
   "id": "a64e6ea7-5368-4ecd-82f9-b43c0e72e922",
   "metadata": {},
   "outputs": [
    {
     "name": "stdout",
     "output_type": "stream",
     "text": [
      "Note: you may need to restart the kernel to use updated packages.\n"
     ]
    }
   ],
   "source": [
    "%pip install -qU langchain-google-genai"
   ]
  },
  {
   "cell_type": "code",
   "execution_count": 4,
   "id": "adcdc53a-8106-4cf2-8451-411f24d1c083",
   "metadata": {},
   "outputs": [
    {
     "name": "stdout",
     "output_type": "stream",
     "text": [
      "Note: you may need to restart the kernel to use updated packages.\n"
     ]
    }
   ],
   "source": [
    "%pip install -qU langchain-chroma --use-deprecated=legacy-resolver"
   ]
  },
  {
   "cell_type": "code",
   "execution_count": 5,
   "id": "3a0f74c1-e3c1-428b-bc7c-58456738ab69",
   "metadata": {},
   "outputs": [
    {
     "name": "stdout",
     "output_type": "stream",
     "text": [
      "Requirement already satisfied: python-dotenv in c:\\users\\owner\\appdata\\local\\programs\\python\\python312\\lib\\site-packages (1.1.0)\n",
      "Note: you may need to restart the kernel to use updated packages.\n"
     ]
    }
   ],
   "source": [
    "%pip install python-dotenv"
   ]
  },
  {
   "cell_type": "code",
   "execution_count": 6,
   "id": "668420c8-8d03-4b5c-9bac-83ca8beffbbe",
   "metadata": {},
   "outputs": [
    {
     "name": "stdout",
     "output_type": "stream",
     "text": [
      "Requirement already satisfied: urllib3==1.26.18 in c:\\users\\owner\\appdata\\local\\programs\\python\\python312\\lib\\site-packages (1.26.18)\n",
      "Note: you may need to restart the kernel to use updated packages.\n"
     ]
    }
   ],
   "source": [
    "#force downgrade urllib due to errors with modernized version\n",
    "%pip install urllib3==1.26.18"
   ]
  },
  {
   "cell_type": "code",
   "execution_count": 7,
   "id": "90316d3e-3c6c-41d0-b651-dfbcc27b6cb3",
   "metadata": {},
   "outputs": [
    {
     "name": "stdout",
     "output_type": "stream",
     "text": [
      "Note: you may need to restart the kernel to use updated packages.\n"
     ]
    }
   ],
   "source": [
    "%pip install -qU langchain_community pymupdf"
   ]
  },
  {
   "cell_type": "code",
   "execution_count": 8,
   "id": "e121fc6a-bef7-4200-ba7b-dc7a01f19909",
   "metadata": {},
   "outputs": [
    {
     "name": "stdout",
     "output_type": "stream",
     "text": [
      "Note: you may need to restart the kernel to use updated packages.\n"
     ]
    }
   ],
   "source": [
    "%pip install -qU pytesseract"
   ]
  },
  {
   "cell_type": "code",
   "execution_count": 9,
   "id": "55d416ae-c1e5-4539-899c-226b2bdf5728",
   "metadata": {},
   "outputs": [
    {
     "name": "stdout",
     "output_type": "stream",
     "text": [
      "YAY\n"
     ]
    }
   ],
   "source": [
    "import getpass\n",
    "import os\n",
    "from dotenv import load_dotenv\n",
    "load_dotenv()\n",
    "\n",
    "os.environ[\"LANGSMITH_TRACING\"] = \"true\"\n",
    "if not os.environ.get(\"LANGSMITH_API_KEY\"):\n",
    "    os.environ[\"LANGSMITH_API_KEY\"] = getpass.getpass(\"Enter Langsmith API Key\")\n",
    "\n",
    "if not os.environ.get(\"GOOGLE_API_KEY\"):\n",
    "  os.environ[\"GOOGLE_API_KEY\"] = getpass.getpass(\"Enter API key for Google Gemini: \")\n",
    "\n",
    "from langchain.chat_models import init_chat_model\n",
    "from langchain_google_genai import GoogleGenerativeAIEmbeddings\n",
    "from langchain_chroma import Chroma\n",
    "\n",
    "llm = init_chat_model(\"gemini-2.0-flash\", model_provider=\"google_genai\")\n",
    "\n",
    "embeddings = GoogleGenerativeAIEmbeddings(model=\"models/embedding-001\")\n",
    "\n",
    "vector_store = Chroma(\n",
    "    collection_name=\"example_collection\",\n",
    "    embedding_function=embeddings,\n",
    "    persist_directory=\"./chroma_langchain_db\",  # Where to save data locally, remove if not necessary\n",
    ")\n",
    "\n",
    "print(\"YAY\")"
   ]
  },
  {
   "cell_type": "code",
   "execution_count": 11,
   "id": "89c0cab8-7022-4487-9d68-8b48ff75b331",
   "metadata": {},
   "outputs": [],
   "source": [
    "#Load papers \n",
    "from langchain_community.document_loaders import PyMuPDFLoader\n",
    "\n",
    "file_path = \"dnutg/paper1.pdf\"\n",
    "loader = PyMuPDFLoader(file_path, mode=\"page\", \n",
    "                        extract_tables=\"markdown\",\n",
    "                      )\n",
    "docs = loader.load()"
   ]
  },
  {
   "cell_type": "code",
   "execution_count": 12,
   "id": "4713e9b9-b01e-4361-b905-b392904e9098",
   "metadata": {},
   "outputs": [
    {
     "name": "stdout",
     "output_type": "stream",
     "text": [
      "page_content='JAW \n",
      "Vol. 2x. No. h \n",
      "T?XlJl \n",
      "Et- Al.. \n",
      "Ncwmhcr \n",
      "IS. IWh:ISW-Jh \n",
      "1541 \n",
      "DEl‘ERMINANlS \n",
      "OF HEART \n",
      "RAIlI \n",
      "VARlAHIl.IT1 \n",
      "Table 1. Pratwn Correlations .1mong Measures of Heart Rate \\‘ariahi!ity’ \n",
      "- \n",
      "In \n",
      "In \n",
      "In \n",
      "In \n",
      "In \n",
      "LF, HF \n",
      "In 2-h \n",
      "In \n",
      "In \n",
      "VLF+ \n",
      "LF \n",
      "HF \n",
      "TPt \n",
      "R&l \n",
      "SDNN \n",
      "pSNW \n",
      "r-MSSD \n",
      "Mean \n",
      "7.37 \n",
      "h.U \n",
      "5.3 I \n",
      "7.3' I- \n",
      "I.12 \n",
      "4.41 \n",
      "I .50 \n",
      "3. !fl \n",
      "SD \n",
      "In VLFt \n",
      "in LF \n",
      "In HF \n",
      "In TPt \n",
      "In LFlHF ruin \n",
      "In l-h SDNN \n",
      "In pNNS0 \n",
      "0.7.l \n",
      "0.00 \n",
      "(I.‘:3 \n",
      "o.xl \n",
      "l1.51 \n",
      "0.31 \n",
      "IX \n",
      "I I.41 \n",
      "0.M \n",
      "0.7ll \n",
      "I l.(ti \n",
      "II.:? \n",
      "Il.dU \n",
      "N’ll \n",
      "Il.hs \n",
      "IuiJ \n",
      "NYC \n",
      "ll.I!* \n",
      "ON \n",
      "(I.73 \n",
      "0.71 \n",
      "11.55 \n",
      "- II.32 \n",
      "0.7.5 \n",
      "O.Vl \n",
      "11.43 \n",
      "Il.11 \n",
      "il.SY \n",
      "11.7' \n",
      "(I.iS \n",
      "(l.U7 \n",
      "-0.3 \n",
      "-- NJI \n",
      "11.70 \n",
      "MY \n",
      "11.93 \n",
      "Statistical \n",
      "methods. \n",
      "Measures of heart rate variability \n",
      "were natural log transformed because their distributions were \n",
      "highly skewed. Associations among transformed variables were \n",
      "assessed with Pearson’s correlation coefficients. In preliminary \n",
      "analyses, mean values of heart rate variability measures were \n",
      "plotted against age (grouped in l@year intervals) and heart \n",
      "rate (grouped in IO-heatlmin intervals) to verify that the \n",
      "relations were linear with constant variance. \n",
      "The principal analyses consisted of three forward stepwise \n",
      "multiple linear regression procedures (33) to select variables \n",
      "reiated tn heart rate variability (i.e., In 2-h SDNN. In low \n",
      "frequency power, In high frequency power) from among 16 \n",
      "candidate variables: age, gender. heart rate, starting time of \n",
      "moritoring \n",
      "(AM \n",
      "or PM), \n",
      "total processed time (SW vs. \n",
      "BY0 min), systolic (<16Ovs. 2160 mm Hg) and diastolic (<YO \n",
      "~3. rY0 mm Hg) blood pressure, number of ventricular pre- \n",
      "mature beats/h, number of supraventricular premature beats/h \n",
      "(cl20 vs. 124l to 240 vs. >240), history of myocardial infarction \n",
      "or congestive heart failure (no vs. yes), presence of diabetes \n",
      "mellitus (no vs. yes), use of beta-adrenergic blocking agents \n",
      "(no vs. yes), use of diuretic drugs (no vs. yes), smoking (no vs. \n",
      "yes), coffee consumption (0 vs. 1 to 2 vs. r3 cups/day) and \n",
      "alcohol intake (0 vs. 1 to 2 vs. r3 ozhveek). These variables \n",
      "were chosen because of their potential physiologic effects on \n",
      "measures nf heart rate variability or because of a possit;le \n",
      "technical influence on the measurement. The Statistical Anal- \n",
      "ysis System procedure REG (34) was used, and each categoric \n",
      "variable was encoded by dummy indicators that were entered \n",
      "or removed as a group. Whereas it is common to define \n",
      "statistical significance with a Type I error rate of alpha 0.05, we \n",
      "adopted a more stringent alpha 0.001 for testing multiple \n",
      "variables across three outcomes; furthermore, we dtfined an \n",
      "“important” variable as onk that contributed a.‘partial R’ \n",
      "statistic ZO.005. \n",
      "Normative values of heart rate variability were generated \n",
      "from a subset of subjects who were free of coronary heart \n",
      "disease, cerebrovascular disease, congestive heart failure and \n",
      "diabetes mellitus and who were not receiving cardioactive \n",
      "medications. We further restricted this reference sample to \n",
      "subjects 20 to 79 years old with heart rates between 40 and \n",
      "99 beatslmin. Linear regression was used with the log- \n",
      "transformed data to account for age and heart rate. Estimates \n",
      "were made of the 5th. 25th and 50th percentile values by \n",
      "applying normal theory to the natural log-transformed data \n",
      "before transforming back to the origin;;1 units. \n",
      "Results \n",
      "Of the 10,333 original and offspring Framingham Heart \n",
      "Study subjects, 5.698 attended the index examination. There \n",
      "were 2,278 (40%) subjects in whom ambulatory recordings \n",
      "were not obtained. Ambulatory ECGs were obtained from \n",
      "June lYS3 to September 1967. Subjects who attended corre- \n",
      "sponding examinations, but who did not have ambulatory \n",
      "ECGs, spanned a similar period (April 1983 to June 1987). \n",
      "Some basic statistics on subjects who had (vs. those who did \n",
      "not have) ambulatory ECG recordings are as follows: .SZ (vs. \n",
      "55%) women. mean age 56 (vs. 5X) years. age range 21 to 93 \n",
      "(vs. 18 to 94) years, mean systolic/diastolic blood pressure \n",
      "129/78 (vs. l30/78) mm Hg. Thus. the two groups were \n",
      "comparable; ,there was no evidence of selection bias. Among \n",
      "3.420 subjects with tapes analyzed, 698 were excluded from \n",
      "analysis. mostly due to excessive artifact (n = 500). Compared \n",
      "with excluded subjects (n = 698), those’who were analyzed \n",
      "were .younger (age 55 vs. 62 years. analyzed vs. excluded) but \n",
      "had the same gender distribution (55% vs. 53% female) and \n",
      "had similar blood pressure (129/78 vs. 133/?8 mm Hg) and \n",
      "mean heart rate (73 vs.‘74 beatslmin). The mean age of the \n",
      "2,722 eligible subjects was 55 years (range 21 to 93), and 1.236 \n",
      "(45%) were men. The mean heart rate ‘(2 SD) was 73 + 1 I \n",
      "beats/min. A history of myocardial infarction was present in \n",
      "107 subjects (4%) and congestive heart failure in I7 (1%); \n",
      "diabetes was present in 127 subjects (5%).' metadata={'producer': 'Acrobat Distiller 7.0.5 pour Macintosh', 'creator': 'Elsevier', 'creationdate': '2016-07-18T16:22:02+05:30', 'source': 'dnutg/paper1.pdf', 'file_path': 'dnutg/paper1.pdf', 'total_pages': 8, 'format': 'PDF 1.7', 'title': 'Determinants of heart rate variability', 'author': 'Hisako Tsuji', 'subject': 'Journal of the American College of Cardiology, (1996) 1539-1546. doi:10.1016/S0735-1097(96)00342-7', 'keywords': '', 'moddate': '2016-07-18T16:22:02+05:30', 'trapped': '', 'modDate': \"D:20160718162202+05'30'\", 'creationDate': \"D:20160718162202+05'30'\", 'page': 2}\n"
     ]
    }
   ],
   "source": [
    "print(docs[2])"
   ]
  },
  {
   "cell_type": "code",
   "execution_count": 13,
   "id": "101bbd6a-0899-49be-be38-7b9a73613778",
   "metadata": {},
   "outputs": [
    {
     "name": "stdout",
     "output_type": "stream",
     "text": [
      "Split dem cheeks boi (into a diclosed number of subdocs): 48 sub-documents.\n"
     ]
    }
   ],
   "source": [
    "from langchain_text_splitters import RecursiveCharacterTextSplitter\n",
    "text_splitter = RecursiveCharacterTextSplitter(\n",
    "    chunk_size=1000, #chunk size\n",
    "    chunk_overlap=200, #chunk overlap\n",
    "    add_start_index=True, #track index\n",
    ")\n",
    "all_splits = text_splitter.split_documents(docs)\n",
    "print(f\"Split dem cheeks boi (into a diclosed number of subdocs): {len(all_splits)} sub-documents.\")"
   ]
  },
  {
   "cell_type": "code",
   "execution_count": 14,
   "id": "9ae9567e-23d9-4853-8670-22fd1e60d578",
   "metadata": {},
   "outputs": [
    {
     "name": "stdout",
     "output_type": "stream",
     "text": [
      "['ee1c3d13-d0f7-484c-b967-aee720edbc8c', '2be772c6-a230-46aa-8492-83ee1d3b4ad8', '8fb8c3f4-3f57-413a-a347-6cda8583aee6']\n"
     ]
    }
   ],
   "source": [
    "document_ids = vector_store.add_documents(documents=all_splits)\n",
    "print(document_ids[:3])"
   ]
  },
  {
   "cell_type": "code",
   "execution_count": 16,
   "id": "34b04b1b",
   "metadata": {},
   "outputs": [
    {
     "data": {
      "text/plain": [
       "ChatPromptValue(messages=[SystemMessage(content='You are a helpful assistant', additional_kwargs={}, response_metadata={}), HumanMessage(content='Tell me a joke about cats', additional_kwargs={}, response_metadata={})])"
      ]
     },
     "execution_count": 16,
     "metadata": {},
     "output_type": "execute_result"
    }
   ],
   "source": [
    "from langchain_core.prompts import ChatPromptTemplate\n",
    "\n",
    "prompt_template = ChatPromptTemplate([\n",
    "    (\"system\", \"You are a helpful assistant\"),\n",
    "    (\"user\", \"Tell me a joke about {topic}\")\n",
    "])\n",
    "\n",
    "prompt_template.invoke({\"topic\":\"cats\"})"
   ]
  },
  {
   "cell_type": "code",
   "execution_count": null,
   "id": "b5b922d7-59ab-402c-8e70-d1bced06ff57",
   "metadata": {},
   "outputs": [],
   "source": []
  }
 ],
 "metadata": {
  "kernelspec": {
   "display_name": "Python 3 (ipykernel)",
   "language": "python",
   "name": "python3"
  },
  "language_info": {
   "codemirror_mode": {
    "name": "ipython",
    "version": 3
   },
   "file_extension": ".py",
   "mimetype": "text/x-python",
   "name": "python",
   "nbconvert_exporter": "python",
   "pygments_lexer": "ipython3",
   "version": "3.12.1"
  }
 },
 "nbformat": 4,
 "nbformat_minor": 5
}
