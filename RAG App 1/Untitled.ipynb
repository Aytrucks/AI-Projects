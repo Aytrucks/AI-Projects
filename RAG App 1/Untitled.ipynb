{
 "cells": [
  {
   "cell_type": "code",
   "execution_count": 1,
   "id": "b3855f4f-3112-423f-86db-8d10c1a5b36a",
   "metadata": {},
   "outputs": [],
   "source": [
    "from IPython.core.magic import register_cell_magic\n",
    "@register_cell_magic\n",
    "def skip(line, cell):\n",
    "    return"
   ]
  },
  {
   "cell_type": "code",
   "execution_count": 2,
   "id": "5a711e62-6f9d-4265-81fa-13c54faed88f",
   "metadata": {},
   "outputs": [
    {
     "name": "stdout",
     "output_type": "stream",
     "text": [
      "Note: you may need to restart the kernel to use updated packages.\n"
     ]
    }
   ],
   "source": [
    "%pip install --quiet --upgrade langchain-text-splitters langchain-community langgraph"
   ]
  },
  {
   "cell_type": "code",
   "execution_count": 3,
   "id": "cfd83372-398e-4d49-afa7-66b1b2651aa1",
   "metadata": {},
   "outputs": [
    {
     "name": "stdout",
     "output_type": "stream",
     "text": [
      "Note: you may need to restart the kernel to use updated packages.\n"
     ]
    }
   ],
   "source": [
    "%pip install -qU \"langchain[google-genai]\" --use-deprecated=legacy-resolver"
   ]
  },
  {
   "cell_type": "code",
   "execution_count": 4,
   "id": "311bc73d-3cfe-4185-b6da-a9a9aad478a5",
   "metadata": {},
   "outputs": [
    {
     "name": "stdout",
     "output_type": "stream",
     "text": [
      "Note: you may need to restart the kernel to use updated packages.\n"
     ]
    }
   ],
   "source": [
    "%pip install -qU langchain-google-genai"
   ]
  },
  {
   "cell_type": "code",
   "execution_count": 5,
   "id": "8b20541a-d2b8-4c4a-862f-b124cce6320d",
   "metadata": {},
   "outputs": [],
   "source": [
    "%%skip\n",
    "%pip install protobuf==5.26.1"
   ]
  },
  {
   "cell_type": "code",
   "execution_count": 6,
   "id": "13ce881a-60cd-4167-980a-6dd6fceffc8f",
   "metadata": {},
   "outputs": [
    {
     "name": "stdout",
     "output_type": "stream",
     "text": [
      "Note: you may need to restart the kernel to use updated packages.\n"
     ]
    },
    {
     "name": "stderr",
     "output_type": "stream",
     "text": [
      "ERROR: pip's dependency resolver does not currently take into account all the packages that are installed. This behaviour is the source of the following dependency conflicts.\n",
      "grpcio-status 1.73.1 requires protobuf<7.0.0,>=6.30.0, but you have protobuf 5.29.5 which is incompatible.\n"
     ]
    }
   ],
   "source": [
    "%pip install -qU langchain-chroma "
   ]
  },
  {
   "cell_type": "code",
   "execution_count": 7,
   "id": "a419a5b5-552f-4d29-b57a-26c3cdf6e987",
   "metadata": {},
   "outputs": [],
   "source": [
    "%%skip\n",
    "%pip uninstall -y protobuf"
   ]
  },
  {
   "cell_type": "code",
   "execution_count": 8,
   "id": "1d9d9f0c-6aee-4c32-a576-0cc1d5540726",
   "metadata": {},
   "outputs": [
    {
     "name": "stdout",
     "output_type": "stream",
     "text": [
      "Requirement already satisfied: python-dotenv in c:\\users\\owner\\appdata\\local\\programs\\python\\python312\\lib\\site-packages (1.1.1)\n",
      "Note: you may need to restart the kernel to use updated packages.\n"
     ]
    }
   ],
   "source": [
    "%pip install python-dotenv"
   ]
  },
  {
   "cell_type": "code",
   "execution_count": 9,
   "id": "dd636d37-307a-4e16-b696-f1576226e5c7",
   "metadata": {},
   "outputs": [
    {
     "name": "stdout",
     "output_type": "stream",
     "text": [
      "Requirement already satisfied: urllib3==1.26.18 in c:\\users\\owner\\appdata\\local\\programs\\python\\python312\\lib\\site-packages (1.26.18)\n",
      "Note: you may need to restart the kernel to use updated packages.\n"
     ]
    }
   ],
   "source": [
    "%pip install urllib3==1.26.18"
   ]
  },
  {
   "cell_type": "code",
   "execution_count": 10,
   "id": "70fdc514-c37c-4497-b44a-ce2cc8a41828",
   "metadata": {},
   "outputs": [
    {
     "name": "stdout",
     "output_type": "stream",
     "text": [
      "Note: you may need to restart the kernel to use updated packages.\n"
     ]
    }
   ],
   "source": [
    "%pip install -qU langchain_community pymupdf"
   ]
  },
  {
   "cell_type": "code",
   "execution_count": 11,
   "id": "55d416ae-c1e5-4539-899c-226b2bdf5728",
   "metadata": {},
   "outputs": [
    {
     "name": "stdout",
     "output_type": "stream",
     "text": [
      "YAY\n"
     ]
    }
   ],
   "source": [
    "import getpass\n",
    "import os\n",
    "from dotenv import load_dotenv\n",
    "load_dotenv()\n",
    "\n",
    "#Here we just load in all the API keys and choose what AI model we want to run. \n",
    "#We setup the vector store and embeddings to later store our indices into to retrieve later.\n",
    "\n",
    "os.environ[\"LANGSMITH_TRACING\"] = \"true\"\n",
    "if not os.environ.get(\"LANGSMITH_API_KEY\"):\n",
    "    os.environ[\"LANGSMITH_API_KEY\"] = getpass.getpass(\"Enter Langsmith API Key\")\n",
    "\n",
    "if not os.environ.get(\"GOOGLE_API_KEY\"):\n",
    "  os.environ[\"GOOGLE_API_KEY\"] = getpass.getpass(\"Enter API key for Google Gemini: \")\n",
    "\n",
    "from langchain.chat_models import init_chat_model\n",
    "from langchain_google_genai import GoogleGenerativeAIEmbeddings\n",
    "from langchain_chroma import Chroma\n",
    "\n",
    "llm = init_chat_model(\"gemini-2.0-flash\", model_provider=\"google_genai\")\n",
    "\n",
    "embeddings = GoogleGenerativeAIEmbeddings(model=\"models/embedding-001\")\n",
    "\n",
    "vector_store = Chroma(\n",
    "    collection_name=\"example_collection\",\n",
    "    embedding_function=embeddings,\n",
    "    persist_directory=\"./chroma_langchain_db\",  # Where to save data locally, remove if not necessary\n",
    ")\n",
    "\n",
    "print(\"YAY\")"
   ]
  },
  {
   "cell_type": "code",
   "execution_count": 12,
   "id": "89c0cab8-7022-4487-9d68-8b48ff75b331",
   "metadata": {},
   "outputs": [],
   "source": [
    "#Load papers \n",
    "from langchain_community.document_loaders import PyMuPDFLoader\n",
    "\n",
    "file_path = \"dnutg/paper1.pdf\"\n",
    "loader = PyMuPDFLoader(file_path, mode=\"page\", \n",
    "                        extract_tables=\"markdown\",\n",
    "                      )\n",
    "docs = loader.load()"
   ]
  },
  {
   "cell_type": "code",
   "execution_count": 13,
   "id": "101bbd6a-0899-49be-be38-7b9a73613778",
   "metadata": {},
   "outputs": [
    {
     "name": "stdout",
     "output_type": "stream",
     "text": [
      "Split dem cheeks boi (into a diclosed number of subdocs): 48 sub-documents.\n"
     ]
    }
   ],
   "source": [
    "from langchain_text_splitters import RecursiveCharacterTextSplitter\n",
    "text_splitter = RecursiveCharacterTextSplitter(\n",
    "    chunk_size=1000, #chunk size\n",
    "    chunk_overlap=200, #chunk overlap\n",
    "    add_start_index=True, #track index\n",
    ")\n",
    "all_splits = text_splitter.split_documents(docs)\n",
    "print(f\"Split dem cheeks boi (into a diclosed number of subdocs): {len(all_splits)} sub-documents.\")"
   ]
  },
  {
   "cell_type": "code",
   "execution_count": 14,
   "id": "9ae9567e-23d9-4853-8670-22fd1e60d578",
   "metadata": {},
   "outputs": [
    {
     "name": "stdout",
     "output_type": "stream",
     "text": [
      "['5654e848-3bbc-4b30-94b5-97c268c745c1', '16a722d2-9926-42d9-b842-a135c303bcbe', '30762f31-5e67-4738-94bf-861a2134857e']\n"
     ]
    }
   ],
   "source": [
    "document_ids = vector_store.add_documents(documents=all_splits)\n",
    "print(document_ids[:3])"
   ]
  },
  {
   "cell_type": "code",
   "execution_count": 15,
   "id": "34b04b1b",
   "metadata": {},
   "outputs": [],
   "source": [
    "from langchain_core.prompts import ChatPromptTemplate\n",
    "\n",
    "prompt_template = \"\"\"You are a highly knowledgeable AI assistant specializing in cardiovascular health and medical research.\n",
    "Your primary goal is to provide accurate, evidence-based answers to user questions about heart rate, heart health, and related medical conditions.\n",
    "\n",
    "Answer the question ONLY based on the following context. If the answer cannot be found in the context, please respond to the best of your given ability with the context. You don't have to answer the question if you cannot, but try to give as much context to answering the question as possible. Do not make up information.\n",
    "\n",
    "Context:\n",
    "{context}\n",
    "\n",
    "Question:\n",
    "{question}\n",
    "\"\"\"\n",
    "\n",
    "prompt = ChatPromptTemplate.from_template(prompt_template)\n",
    "\n",
    "sample_context = \"\"\"\n",
    "A study on resting heart rate found that a rate between 60-100 is normal.\n",
    "\"\"\"\n",
    "\n",
    "sample_question = \"What is a good heart rate?\"\n",
    "\n",
    "prompt_value = prompt.invoke({\"context\":sample_context, \"question\":sample_question})\n",
    "\n",
    "example_messages = prompt_value.to_messages()\n",
    "assert len(example_messages) == 1\n",
    "#print(example_messages[0].content)\n"
   ]
  },
  {
   "cell_type": "code",
   "execution_count": 16,
   "id": "ae79ef5b-1f17-4b44-a244-ba68e0e9637a",
   "metadata": {},
   "outputs": [],
   "source": [
    "#Query analysis: optimize user prompts to make sense to llm\n",
    "total_docs = len(all_splits)\n",
    "third = total_docs // 3\n",
    "for i, doc in enumerate(all_splits):\n",
    "    if i<third:\n",
    "        doc.metadata[\"section\"] = \"begin\"\n",
    "    elif i<2*third:\n",
    "        doc.metadata[\"section\"] = \"mid\"\n",
    "    else:\n",
    "        doc.metadata[\"section\"] = \"end\"\n"
   ]
  },
  {
   "cell_type": "code",
   "execution_count": 17,
   "id": "f4b4d5b2-1329-4962-b6f2-8ab85194341e",
   "metadata": {},
   "outputs": [],
   "source": [
    "#update docs in the vector store\n",
    "from langchain_core.vectorstores import InMemoryVectorStore\n",
    "\n",
    "vector_store = InMemoryVectorStore(embeddings)\n",
    "_ = vector_store.add_documents(all_splits)"
   ]
  },
  {
   "cell_type": "code",
   "execution_count": 18,
   "id": "e8fad6b8-5425-44e5-8635-7621fc2ec5dc",
   "metadata": {},
   "outputs": [],
   "source": [
    "#define schema for search query using structured output\n",
    "from typing import Literal\n",
    "from typing_extensions import Annotated, List, TypedDict\n",
    "\n",
    "class Search(TypedDict):\n",
    "    \"\"\"Search Query.\"\"\"\n",
    "\n",
    "    query: Annotated[str, ..., \"Search query to run.\"]\n",
    "    section: Annotated[\n",
    "        Literal[\"begin\", \"mid\", \"end\"],\n",
    "        ...,\n",
    "        \"Section to query.\"\n",
    "    ]\n",
    "    "
   ]
  },
  {
   "cell_type": "code",
   "execution_count": 19,
   "id": "b5b922d7-59ab-402c-8e70-d1bced06ff57",
   "metadata": {},
   "outputs": [],
   "source": [
    "#We use langGraph to tie together retrievel and generation into simpler process\n",
    "#Makes it easier to update later + easy to trace steps of the application\n",
    "from langchain_core.documents import Document\n",
    "from langgraph.graph import START, StateGraph\n",
    "\n",
    "class State(TypedDict):\n",
    "    question: str\n",
    "    query: Search\n",
    "    context: List[Document]\n",
    "    answer: str\n",
    "\n",
    "def analyze_query(state: State):\n",
    "    structured_llm = llm.with_structured_output(Search)\n",
    "    query = structured_llm.invoke(state[\"question\"])\n",
    "    return {\"query\": query}\n",
    "\n",
    "def retrieve(state: State):\n",
    "    query = state[\"query\"]\n",
    "    retrieved_docs = vector_store.similarity_search(\n",
    "        query[\"query\"],\n",
    "        filter = lambda doc: doc.metadata.get(\"section\") == query[\"section\"],\n",
    "    )\n",
    "    return {\"context\": retrieved_docs}\n",
    "\n",
    "def generate(state: State):\n",
    "    docs_content = \"\\n\\n\".join(doc.page_content for doc in state[\"context\"])\n",
    "    messages = prompt.invoke({\"question\": state[\"question\"], \"context\": docs_content})\n",
    "    response = llm.invoke(messages)\n",
    "    return {\"answer\": response.content}\n",
    "\n",
    "#now make graph object that compiles all components into one\n",
    "graph_builder = StateGraph(State).add_sequence([analyze_query, retrieve, generate])\n",
    "graph_builder.add_edge(START, \"analyze_query\")\n",
    "graph = graph_builder.compile()"
   ]
  },
  {
   "cell_type": "code",
   "execution_count": 20,
   "id": "0d77144a-6c09-4ad2-8c05-c13626ba6427",
   "metadata": {},
   "outputs": [
    {
     "data": {
      "image/png": "[encoded data removed]",
      "text/plain": [
       "<IPython.core.display.Image object>"
      ]
     },
     "metadata": {},
     "output_type": "display_data"
    }
   ],
   "source": [
    "#workflow display\n",
    "from IPython.display import Image, display\n",
    "\n",
    "display(Image(graph.get_graph().draw_mermaid_png()))"
   ]
  },
  {
   "cell_type": "code",
   "execution_count": 21,
   "id": "52cf6fe5-2596-4ccb-b82c-07c75e2ffc4f",
   "metadata": {},
   "outputs": [
    {
     "name": "stdout",
     "output_type": "stream",
     "text": [
      "Answer: Based on the context, heart rate variability measures were adjusted for age and heart rate. Higher heart rate, older age, beta-adrenergic blocking agent use, history of myocardial infarction or congestive heart failure, diuretic use, diastolic blood pressure 290 mm Hg, diabetes mellitus, consumption of three or more cups of coffee per day and smoking were associated with lower values of one or more heart rate variability measures, whereas longer processed times start time in the morning, frequent supraventricular and ventricular premature beats, female gender and systolic blood pressure Z160 mm Hg were associated with.\n",
      "\n",
      "In addition to these two measures, 2-h SDNN was selected because it is conceptually a simpler measure of heart rate variability.\n"
     ]
    }
   ],
   "source": [
    "\n",
    "#test app\n",
    "result = graph.invoke({\"question\": \"What is heart rate variability? Where is it commonly seen?\"})\n",
    "#print(f'Context: {result[\"context\"]}\\n\\n')\n",
    "print(f'Answer: {result[\"answer\"]}')"
   ]
  },
  {
   "cell_type": "code",
   "execution_count": 22,
   "id": "c8a74c0f-18d2-4a09-a8a7-e382c44f0d2b",
   "metadata": {},
   "outputs": [],
   "source": [
    "%%skip\n",
    "#testing the app using diff method. This one is streaming\n",
    "for step in graph.stream(\n",
    "    {\"question\": \"What is a heart?\"}, stream_mode=\"updates\"\n",
    "):\n",
    "    print(f\"{step}\\n\\n----------------\\n\")"
   ]
  },
  {
   "cell_type": "code",
   "execution_count": 23,
   "id": "a8405094-97f2-4a6e-83f0-43e01823d93e",
   "metadata": {},
   "outputs": [],
   "source": [
    "%%skip\n",
    "#Uses stream tokens?? idk \n",
    "for message, metadata in graph.stream(\n",
    "    {\"question\": \"What is a heart rate variability?\"}, stream_mode=\"messages\"\n",
    "):\n",
    "    print(message.content, end=\"|\")"
   ]
  }
 ],
 "metadata": {
  "kernelspec": {
   "display_name": "Python 3 (ipykernel)",
   "language": "python",
   "name": "python3"
  },
  "language_info": {
   "codemirror_mode": {
    "name": "ipython",
    "version": 3
   },
   "file_extension": ".py",
   "mimetype": "text/x-python",
   "name": "python",
   "nbconvert_exporter": "python",
   "pygments_lexer": "ipython3",
   "version": "3.12.1"
  }
 },
 "nbformat": 4,
 "nbformat_minor": 5
}
